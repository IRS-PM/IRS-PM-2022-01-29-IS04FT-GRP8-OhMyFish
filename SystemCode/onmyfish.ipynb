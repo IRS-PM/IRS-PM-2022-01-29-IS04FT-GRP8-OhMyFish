{
 "cells": [
  {
   "cell_type": "code",
   "execution_count": 3,
   "id": "59b6a0c8",
   "metadata": {},
   "outputs": [],
   "source": [
    "!pip install sklearn spacy neo4j neomodel nltk\n",
    "!pip install pandas Flask flask_cors\n",
    "!python -m spacy download 'en_core_web_lg'"
   ]
  },
  {
   "cell_type": "code",
   "execution_count": 3,
   "id": "9a8d1dbe",
   "metadata": {},
   "outputs": [],
   "source": [
    "from DataSetupPackage import DataSetUpPackage\n",
    "from DataAccessLayer import DataAccessLayer\n",
    "import nltk\n",
    "nltk.download('punkt')\n",
    "nltk.download('stopwords')\n",
    "nltk.download('averaged_perceptron_tagger')\n",
    "nltk.download('wordnet')\n",
    "nltk.download('omw-1.4')"
   ]
  },
  {
   "cell_type": "code",
   "execution_count": 5,
   "id": "494bedc3",
   "metadata": {},
   "outputs": [],
   "source": [
    "dbcon = DataAccessLayer(username='neo4j',password='neo123456').CreateDBConnection\n",
    "dbcon.ClearCurrentDB  # This will clean up the neo4jDB\n",
    "DataSetUpPackage().ReadCSVAndPopulateDB.PopulateNeo4j(dbcon.Session, verbose=True)"
   ]
  },
  {
   "cell_type": "markdown",
   "id": "d3a91931",
   "metadata": {},
   "source": [
    "### Visualize created knowledge graph at: http://localhost:7474/browser/\n",
    "\n",
    "* Username: neo4j\n",
    "\n",
    "* Password: neo123456"
   ]
  },
  {
   "cell_type": "code",
   "execution_count": 4,
   "id": "61a68345",
   "metadata": {
    "scrolled": true
   },
   "outputs": [],
   "source": [
    "dbcon = DataAccessLayer(username='neo4j',password='neo123456').CreateDBConnection\n",
    "result2 = dbcon.GetAllNodeListOfType('Disease')\n",
    "for resulti in result2:\n",
    "    print(\"Disease Name: \" + resulti.name)\n",
    "    print(resulti.environment)\n",
    "    for r in resulti.symptoms:\n",
    "        print(r.name + \" # \" +str(r.id) +\" === \" + str(resulti.symptoms.relationship(r).weight) + str(resulti.symptoms.relationship(r).penalty))\n",
    "    print(\"----------------------------\")"
   ]
  }
 ],
 "metadata": {
  "kernelspec": {
   "display_name": "Python 3 (ipykernel)",
   "language": "python",
   "name": "python3"
  },
  "language_info": {
   "codemirror_mode": {
    "name": "ipython",
    "version": 3
   },
   "file_extension": ".py",
   "mimetype": "text/x-python",
   "name": "python",
   "nbconvert_exporter": "python",
   "pygments_lexer": "ipython3",
   "version": "3.9.12"
  }
 },
 "nbformat": 4,
 "nbformat_minor": 5
}
