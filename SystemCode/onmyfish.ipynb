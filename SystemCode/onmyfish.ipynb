{
 "cells": [
  {
   "cell_type": "code",
   "execution_count": 3,
   "id": "59b6a0c8",
   "metadata": {},
   "outputs": [],
   "source": [
    "!pip install sklearn spacy neo4j neomodel nltk\n",
    "!pip install pandas Flask flask_cors\n",
    "!python -m spacy download 'en_core_web_lg'"
   ]
  },
  {
   "cell_type": "code",
   "execution_count": 4,
   "id": "9a8d1dbe",
   "metadata": {},
   "outputs": [],
   "source": [
    "from DataSetupPackage import DataSetUpPackage\n",
    "from DataAccessLayer import DataAccessLayer\n",
    "import json\n",
    "import nltk\n",
    "nltk.download('punkt')\n",
    "nltk.download('stopwords')\n",
    "nltk.download('averaged_perceptron_tagger')\n",
    "nltk.download('wordnet')\n",
    "nltk.download('omw-1.4')"
   ]
  },
  {
   "cell_type": "code",
   "execution_count": 5,
   "id": "494bedc3",
   "metadata": {},
   "outputs": [],
   "source": [
    "dbcon = DataAccessLayer(username='neo4j',password='neo123456').CreateDBConnection\n",
    "dbcon.ClearCurrentDB  # This will clean up the neo4jDB\n",
    "DataSetUpPackage().ReadCSVAndPopulateDB.PopulateNeo4j(dbcon.Session, verbose=True)"
   ]
  },
  {
   "cell_type": "markdown",
   "id": "d3a91931",
   "metadata": {},
   "source": [
    "### Visualize created knowledge graph at: http://localhost:7474/browser/\n",
    "\n",
    "* Username: neo4j\n",
    "\n",
    "* Password: neo123456"
   ]
  },
  {
   "cell_type": "code",
   "execution_count": 2,
   "id": "61a68345",
   "metadata": {
    "scrolled": true
   },
   "outputs": [
    {
     "name": "stdout",
     "output_type": "stream",
     "text": [
      "Disease Name: Columnaris\n",
      "Freshwater\n",
      "COTTONGROWTH # 23 === 1.0-0.2\n",
      "GREYMOUTH # 22 === 1.0-0.2\n",
      "LOSSAPPETITE # 233 === 1.0-0.2\n",
      "RAPIDBREATH # 21 === 1.0-0.2\n",
      "BROWNGILLS # 20 === 1.0-0.2\n",
      "MUCUSHEAD # 19 === 1.0-0.2\n",
      "GREYGILL # 18 === 1.0-0.2\n",
      "SKINPEEL # 17 === 1.0-0.2\n",
      "SKINULCER # 14 === 1.0-0.2\n",
      "FRAYFIN # 197 === 1.0-0.2\n",
      "----------------------------\n",
      "Disease Name: Dropsy\n",
      "ALL\n",
      "RAPIDGILL # 34 === 1.0-0.2\n",
      "LOSSAPPETITE # 233 === 1.0-0.2\n",
      "LETHARGIC # 33 === 1.0-0.2\n",
      "EYEPROD # 32 === 1.0-0.2\n",
      "SCALEOUT # 31 === 1.0-0.2\n",
      "BLOAT # 30 === 1.0-0.2\n",
      "----------------------------\n",
      "Disease Name: Fish Tuberculosis\n",
      "ALL\n",
      "HIDING # 42 === 1.0-0.2\n",
      "LOSSAPPETITE # 233 === 1.0-0.2\n",
      "YELLOWNODULE # 41 === 1.0-0.2\n",
      "FINSCALELOSS # 40 === 1.0-0.2\n",
      "FRAYFIN # 197 === 1.0-0.2\n",
      "SKINULCER # 14 === 1.0-0.2\n",
      "PALESKIN # 39 === 1.0-0.2\n",
      "HOLLOWBELLY # 38 === 1.0-0.2\n",
      "LETHARGIC # 33 === 1.0-0.2\n",
      "----------------------------\n",
      "Disease Name: Viral Hemorrhagic Septicemia \n",
      "ALL\n",
      "PALEGILL # 50 === 1.0-0.2\n",
      "ERSWIM # 49 === 1.0-0.2\n",
      "GASPING # 48 === 1.0-0.2\n",
      "RAPIDBREATH # 21 === 1.0-0.2\n",
      "BLEEDING # 47 === 1.0-0.2\n",
      "BLOAT # 30 === 1.0-0.2\n",
      "EYEPROD # 32 === 1.0-0.2\n",
      "PATCHBODY # 46 === 1.0-0.2\n",
      "REDFIN # 45 === 1.0-0.2\n",
      "----------------------------\n",
      "Disease Name: Freshwater Ich\n",
      "Freshwater\n",
      "SETTLEBOTTOM # 234 === 1.0-0.2\n",
      "RAPIDGILL # 34 === 1.0-0.2\n",
      "FLASHING # 60 === 1.0-0.2\n",
      "LOSSAPPETITE # 233 === 1.0-0.2\n",
      "RAPIDBREATH # 21 === 1.0-0.2\n",
      "LETHARGIC # 33 === 1.0-0.2\n",
      "CLAMPFIN # 59 === 1.0-0.2\n",
      "WHITESPOT # 58 === 1.0-0.2\n",
      "----------------------------\n",
      "Disease Name: Popeye\n",
      "ALL\n",
      "LETHARGIC # 33 === 1.0-0.2\n",
      "LOSSVISION # 238 === 1.0-0.2\n",
      "RUPTUREEYE # 64 === 1.0-0.2\n",
      "BLOODEYE # 63 === 1.0-0.2\n",
      "GREYEYE # 237 === 1.0-0.2\n",
      "EYEPROD # 32 === 1.0-0.2\n",
      "----------------------------\n",
      "Disease Name: Swim Bladder Disease\n",
      "ALL\n",
      "SURFACEDWELL # 71 === 1.0-0.2\n",
      "GASPING # 48 === 1.0-0.2\n",
      "SWIMDOWNWARD # 70 === 1.0-0.2\n",
      "ERSWIM # 49 === 1.0-0.2\n",
      "UPSIDEDOWN # 69 === 1.0-0.2\n",
      "SWIMDIFF # 232 === 1.0-0.2\n",
      "CSPINE # 68 === 1.0-0.2\n",
      "BLOAT # 30 === 1.0-0.2\n",
      "----------------------------\n",
      "Disease Name: Freshwater velvet disease\n",
      "Freshwater\n",
      "SUDDENDEATH # 77 === 1.0-0.2\n",
      "RAPIDGILL # 34 === 1.0-0.2\n",
      "LOSSAPPETITE # 233 === 1.0-0.2\n",
      "RAPIDBREATH # 21 === 1.0-0.2\n",
      "LETHARGIC # 33 === 1.0-0.2\n",
      "FLASHING # 60 === 1.0-0.2\n",
      "CLAMPFIN # 59 === 1.0-0.2\n",
      "SKINPEEL # 17 === 1.0-0.2\n",
      "BROWNRUST # 76 === 1.0-0.2\n",
      "----------------------------\n",
      "Disease Name: Ammonia Poisoning\n",
      "ALL\n",
      "INFGILL # 81 === 1.0-0.2\n",
      "GASPING # 48 === 1.0-0.2\n",
      "----------------------------\n",
      "Disease Name: Anchor Worms\n",
      "Freshwater\n",
      "WHITETHREAD # 87 === 1.0-0.2\n",
      "WORMBODY # 86 === 1.0-0.2\n",
      "INFSCALE # 85 === 1.0-0.2\n",
      "FLASHING # 60 === 1.0-0.2\n",
      "----------------------------\n",
      "Disease Name: CO2 Poisoning\n",
      "ALL\n",
      "SURFACEDWELL # 71 === 1.0-0.2\n",
      "GASPING # 48 === 1.0-0.2\n",
      "RAPIDBREATH # 21 === 1.0-0.2\n",
      "----------------------------\n",
      "Disease Name: Constipation\n",
      "ALL\n",
      "ERSWIM # 49 === 1.0-0.2\n",
      "SWIMDIFF # 232 === 1.0-0.2\n",
      "BLOAT # 30 === 1.0-0.2\n",
      "----------------------------\n",
      "Disease Name: Fish Lice\n",
      "ALL\n",
      "DOTFIN # 97 === 1.0-0.2\n",
      "GREYDOT # 96 === 1.0-0.2\n",
      "LETHARGIC # 33 === 1.0-0.2\n",
      "PALESKIN # 39 === 1.0-0.2\n",
      "FLASHING # 60 === 1.0-0.2\n",
      "SKINULCER # 14 === 1.0-0.2\n",
      "PALEGILL # 50 === 1.0-0.2\n",
      "DOTBODY # 95 === 1.0-0.2\n",
      "----------------------------\n",
      "Disease Name: Flukes\n",
      "ALL\n",
      "SUDDENDEATH # 77 === 1.0-0.2\n",
      "LOSSAPPETITE # 233 === 1.0-0.2\n",
      "LETHARGIC # 33 === 1.0-0.2\n",
      "PALESKIN # 39 === 1.0-0.2\n",
      "LOSSSCALE # 105 === 1.0-0.2\n",
      "----------------------------\n",
      "Disease Name: Gill Mite\n",
      "ALL\n",
      "FLASHING # 60 === 1.0-0.2\n",
      "CLAMPFIN # 59 === 1.0-0.2\n",
      "RAPIDBREATH # 21 === 1.0-0.2\n",
      "SURFACEDWELL # 71 === 1.0-0.2\n",
      "GASPING # 48 === 1.0-0.2\n",
      "GILLOPEN # 108 === 1.0-0.2\n",
      "----------------------------\n",
      "Disease Name: Hole in the head\n",
      "Saltwater\n",
      "WHITEFAECES # 119 === 1.0-0.2\n",
      "PATCHBODY # 46 === 1.0-0.2\n",
      "PALEGILL # 50 === 1.0-0.2\n",
      "LETHARGIC # 33 === 1.0-0.2\n",
      "LOSSAPPETITE # 233 === 1.0-0.2\n",
      "LINEULCER # 114 === 1.0-0.2\n",
      "HEADULCER # 113 === 1.0-0.2\n",
      "----------------------------\n",
      "Disease Name: Slime disease\n",
      "Freshwater\n",
      "LOSSAPPETITE # 233 === 1.0-0.2\n",
      "LETHARGIC # 33 === 1.0-0.2\n",
      "FLASHING # 60 === 1.0-0.2\n",
      "RAPIDBREATH # 21 === 1.0-0.2\n",
      "GREYMUCUS # 128 === 1.0-0.2\n",
      "THICKMUCUS # 124 === 1.0-0.2\n",
      "----------------------------\n",
      "Disease Name: Ichthyobodo\n",
      "ALL\n",
      "FLASHING # 60 === 1.0-0.2\n",
      "CLAMPFIN # 59 === 1.0-0.2\n",
      "LOSSSCALE # 105 === 1.0-0.2\n",
      "SKINULCER # 14 === 1.0-0.2\n",
      "THICKMUCUS # 124 === 1.0-0.2\n",
      "----------------------------\n",
      "Disease Name: Polycystic Kidney Disease\n",
      "ALL\n",
      "SUDDENDEATH # 77 === 1.0-0.2\n",
      "RAPIDGILL # 34 === 1.0-0.2\n",
      "LOSSAPPETITE # 233 === 1.0-0.2\n",
      "LETHARGIC # 33 === 1.0-0.2\n",
      "EYEPROD # 32 === 1.0-0.2\n",
      "SCALEOUT # 31 === 1.0-0.2\n",
      "BLOAT # 30 === 1.0-0.2\n",
      "----------------------------\n",
      "Disease Name: Vibrosis\n",
      "ALL\n",
      "FRAYTAIL # 198 === 1.0-0.2\n",
      "INFANUS # 145 === 1.0-0.2\n",
      "BLOAT # 30 === 1.0-0.2\n",
      "SUDDENDEATH # 77 === 1.0-0.2\n",
      "LOSSSCALE # 105 === 1.0-0.2\n",
      "BLEEDING # 47 === 1.0-0.2\n",
      "SKINULCER # 14 === 1.0-0.2\n",
      "----------------------------\n",
      "Disease Name: Lymphocystis\n",
      "ALL\n",
      "CAULIFLOWER # 151 === 1.0-0.2\n",
      "WHITEFILM # 150 === 1.0-0.2\n",
      "WHITEBUMP # 149 === 1.0-0.2\n",
      "GREYSKINFIN # 148 === 1.0-0.2\n",
      "----------------------------\n",
      "Disease Name: Ichthyosporidium\n",
      "ALL\n",
      "BLEEDING # 47 === 1.0-0.2\n",
      "SKINULCER # 14 === 1.0-0.2\n",
      "HOLLOWBELLY # 38 === 1.0-0.2\n",
      "SWIMDIFF # 232 === 1.0-0.2\n",
      "----------------------------\n",
      "Disease Name: Gill lice\n",
      "ALL\n",
      "LETHARGIC # 33 === 1.0-0.2\n",
      "SKINULCER # 14 === 1.0-0.2\n",
      "REDSPOT # 156 === 1.0-0.2\n",
      "LOSSSCALE # 105 === 1.0-0.2\n",
      "----------------------------\n",
      "Disease Name: Nematoda\n",
      "ALL\n",
      "LETHARGIC # 33 === 1.0-0.2\n",
      "SWIMDIFF # 232 === 1.0-0.2\n",
      "LOSSWEIGHT # 161 === 1.0-0.2\n",
      "WORMANUS # 160 === 1.0-0.2\n",
      "HOLLOWBELLY # 38 === 1.0-0.2\n",
      "----------------------------\n",
      "Disease Name: Chilodonella\n",
      "Freshwater\n",
      "SWOLLENSKIN # 167 === 1.0-0.2\n",
      "BLUEMUCUS # 166 === 1.0-0.2\n",
      "FLASHING # 60 === 1.0-0.2\n",
      "LETHARGIC # 33 === 1.0-0.2\n",
      "LOSSAPPETITE # 233 === 1.0-0.2\n",
      "CLAMPFIN # 59 === 1.0-0.2\n",
      "CLOUDSKIN # 165 === 1.0-0.2\n",
      "THICKMUCUS # 124 === 1.0-0.2\n",
      "RAPIDBREATH # 21 === 1.0-0.2\n",
      "----------------------------\n",
      "Disease Name: Carp Pox\n",
      "Freshwater\n",
      "SKINULCER # 14 === 1.0-0.2\n",
      "THICKFIN # 171 === 1.0-0.2\n",
      "WAXYSPOT # 170 === 1.0-0.2\n",
      "----------------------------\n",
      "Disease Name: Water Mold\n",
      "ALL\n",
      "SUNKENEYE # 176 === 1.0-0.2\n",
      "COTTONSCALE # 175 === 1.0-0.2\n",
      "WHITEPATCH # 174 === 1.0-0.2\n",
      "----------------------------\n",
      "Disease Name: Saltwater Ich\n",
      "Saltwater\n",
      "GREYEYE # 237 === 1.0-0.2\n",
      "ERSWIM # 49 === 1.0-0.2\n",
      "LETHARGIC # 33 === 1.0-0.2\n",
      "SETTLEBOTTOM # 234 === 1.0-0.2\n",
      "FLASHING # 60 === 1.0-0.2\n",
      "LOSSAPPETITE # 233 === 1.0-0.2\n",
      "WHITESPOT # 58 === 1.0-0.2\n",
      "NOSIGN # 178 === 1.0-0.2\n",
      "----------------------------\n",
      "Disease Name: Fin or tail rot\n",
      "ALL\n",
      "SETTLEBOTTOM # 234 === 1.0-0.2\n",
      "LOSSAPPETITE # 233 === 1.0-0.2\n",
      "SWIMDIFF # 232 === 1.0-0.2\n",
      "FRAYTAIL # 198 === 1.0-0.2\n",
      "FRAYFIN # 197 === 1.0-0.2\n",
      "WHITEEDGE # 187 === 1.0-0.2\n",
      "----------------------------\n",
      "Disease Name: Marine Velvet Disease\n",
      "Saltwater\n",
      "FLASHING # 60 === 1.0-0.2\n",
      "ERSWIM # 49 === 1.0-0.2\n",
      "LOSSAPPETITE # 233 === 1.0-0.2\n",
      "RAPIDBREATH # 21 === 1.0-0.2\n",
      "LETHARGIC # 33 === 1.0-0.2\n",
      "HIDING # 42 === 1.0-0.2\n",
      "SWIMTOPUMP # 212 === 1.0-0.2\n",
      "ANGLESPOTS # 211 === 1.0-0.2\n",
      "ICHLIKE # 210 === 1.0-0.2\n",
      "----------------------------\n",
      "Disease Name: Cloudy Eye\n",
      "ALL\n",
      "DISTRESS # 4 === 1.0-0.2\n",
      "LOSSVISION # 238 === 1.0-0.2\n",
      "GREYEYE # 237 === 1.0-0.2\n",
      "----------------------------\n"
     ]
    }
   ],
   "source": [
    "dbcon = DataAccessLayer(username='neo4j',password='neo123456').CreateDBConnection\n",
    "result2 = dbcon.GetAllNodeListOfType('Disease')\n",
    "for resulti in result2:\n",
    "    print(\"Disease Name: \" + resulti.name)\n",
    "    print(resulti.environment)\n",
    "    for r in resulti.symptoms:\n",
    "        print(r.name + \" # \" +str(r.id) +\" === \" + str(resulti.symptoms.relationship(r).weight) + str(resulti.symptoms.relationship(r).penalty))\n",
    "    print(\"----------------------------\")"
   ]
  },
  {
   "cell_type": "code",
   "execution_count": 3,
   "id": "fcc8c6a6",
   "metadata": {
    "scrolled": true
   },
   "outputs": [
    {
     "name": "stdout",
     "output_type": "stream",
     "text": [
      "case1 # 215\n"
     ]
    }
   ],
   "source": [
    "newCase = dbcon.CreateOrGetCaseNode('case1')\n",
    "print(newCase.name + \" # \" + str(newCase.id))"
   ]
  },
  {
   "cell_type": "code",
   "execution_count": 5,
   "id": "d22090fd",
   "metadata": {},
   "outputs": [
    {
     "name": "stdout",
     "output_type": "stream",
     "text": [
      "86\n"
     ]
    }
   ],
   "source": [
    "symptom1 = dbcon.GetOneSymptomNode(\"WORMBODY\")\n",
    "print(symptom1.id)"
   ]
  },
  {
   "cell_type": "code",
   "execution_count": 5,
   "id": "cc333ce5",
   "metadata": {},
   "outputs": [
    {
     "name": "stdout",
     "output_type": "stream",
     "text": [
      "1\n",
      "WORMBODY # 86 === 0.5\n"
     ]
    }
   ],
   "source": [
    "dbcon = DataAccessLayer(username='neo4j',password='ai-user').CreateDBConnection\n",
    "newCase = dbcon.CreateOrGetCaseNode('case1',None,True)\n",
    "symptom1 = dbcon.GetOneSymptomNode(\"WORMBODY\")\n",
    "newCase = dbcon.UpdateSymptomToCase(newCase, symptom1, 0.5)\n",
    "print(len(newCase.suspected_symptoms))\n",
    "for r in newCase.suspected_symptoms:\n",
    "    print(r.name + \" # \" +str(r.id) +\" === \" + str(newCase.suspected_symptoms.relationship(r).suspectedLevel))"
   ]
  },
  {
   "cell_type": "code",
   "execution_count": 6,
   "id": "ea86a5a9",
   "metadata": {},
   "outputs": [
    {
     "name": "stdout",
     "output_type": "stream",
     "text": [
      "Anchor Worms\n"
     ]
    }
   ],
   "source": [
    "for d in symptom1.diseases:\n",
    "    dbcon.UpdateDiseaseToCase(newCase, d, 1/len(d.symptoms))\n",
    "    print(d.name)"
   ]
  },
  {
   "cell_type": "code",
   "execution_count": 7,
   "id": "efe93e33",
   "metadata": {},
   "outputs": [
    {
     "name": "stdout",
     "output_type": "stream",
     "text": [
      "Gill Mite # 0.16666666666666666\n",
      "CO2 Poisoning # 0.3333333333333333\n",
      "Ammonia Poisoning # 0.5\n",
      "Swim Bladder Disease # 0.125\n",
      "Viral Hemorrhagic Septicemia  # 0.1111111111111111\n"
     ]
    }
   ],
   "source": [
    "symptom2 = dbcon.GetOneSymptomNode(\"GASPING\")\n",
    "newCase = dbcon.UpdateSymptomToCase(newCase, symptom2)\n",
    "for d in symptom2.diseases:\n",
    "    confidence = 1/len(d.symptoms)\n",
    "    rel = newCase.suspected_diseases.relationship(d)\n",
    "    if rel:\n",
    "        confidence += rel.confidence\n",
    "    dbcon.UpdateDiseaseToCase(newCase, d, confidence)\n",
    "    print(d.name + \" # \" + str(confidence))"
   ]
  },
  {
   "cell_type": "code",
   "execution_count": 9,
   "id": "866ced86",
   "metadata": {
    "pycharm": {
     "name": "#%%\n"
    }
   },
   "outputs": [
    {
     "data": {
      "text/plain": [
       "<Symptom: {'name': 'GASPING', 'description': 'Gasping at the surface', 'type': 'Behaviourial', 'tm_token': ['gasp', 'surface'], 'category1': 'Breathing', 'category2': 'Movement', 'category3': 'nan', 'imageurl': 'nan', 'question': 'Is your fish gasping for air at the water surface?', 'id': 48}>"
      ]
     },
     "execution_count": 9,
     "metadata": {},
     "output_type": "execute_result"
    }
   ],
   "source": [
    "symptom2"
   ]
  },
  {
   "cell_type": "markdown",
   "id": "7e0f4ce6",
   "metadata": {
    "pycharm": {
     "name": "#%% md\n"
    }
   },
   "source": []
  }
 ],
 "metadata": {
  "kernelspec": {
   "display_name": "Python 3 (ipykernel)",
   "language": "python",
   "name": "python3"
  },
  "language_info": {
   "codemirror_mode": {
    "name": "ipython",
    "version": 3
   },
   "file_extension": ".py",
   "mimetype": "text/x-python",
   "name": "python",
   "nbconvert_exporter": "python",
   "pygments_lexer": "ipython3",
   "version": "3.9.12"
  }
 },
 "nbformat": 4,
 "nbformat_minor": 5
}
